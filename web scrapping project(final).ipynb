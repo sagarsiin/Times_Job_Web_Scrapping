{
 "cells": [
  {
   "cell_type": "code",
   "execution_count": 1,
   "id": "13a91e61",
   "metadata": {},
   "outputs": [],
   "source": [
    "import requests"
   ]
  },
  {
   "cell_type": "code",
   "execution_count": 2,
   "id": "cc1f96d3",
   "metadata": {},
   "outputs": [],
   "source": [
    "from bs4 import BeautifulSoup"
   ]
  },
  {
   "cell_type": "code",
   "execution_count": 3,
   "id": "633abb71",
   "metadata": {},
   "outputs": [],
   "source": [
    "html= requests.get('https://www.timesjobs.com/candidate/job-search.html?searchType=Home_Search&from=submit&asKey=OFF&txtKeywords=&cboPresFuncArea=35').text"
   ]
  },
  {
   "cell_type": "code",
   "execution_count": 4,
   "id": "5c7a64dd",
   "metadata": {},
   "outputs": [
    {
     "name": "stdout",
     "output_type": "stream",
     "text": [
      "<class 'str'>\n"
     ]
    }
   ],
   "source": [
    "print(type(html))"
   ]
  },
  {
   "cell_type": "code",
   "execution_count": 5,
   "id": "e893b039",
   "metadata": {},
   "outputs": [],
   "source": [
    "soup_html= BeautifulSoup(html,'lxml')"
   ]
  },
  {
   "cell_type": "code",
   "execution_count": 6,
   "id": "7d9b9fb4",
   "metadata": {},
   "outputs": [
    {
     "name": "stdout",
     "output_type": "stream",
     "text": [
      "<class 'bs4.BeautifulSoup'>\n"
     ]
    }
   ],
   "source": [
    "print(type(soup_html))"
   ]
  },
  {
   "cell_type": "code",
   "execution_count": 7,
   "id": "b1690128",
   "metadata": {},
   "outputs": [],
   "source": [
    "all_divs= soup_html.find_all('li',class_='clearfix job-bx wht-shd-bx')"
   ]
  },
  {
   "cell_type": "code",
   "execution_count": 8,
   "id": "9d05ea75",
   "metadata": {},
   "outputs": [
    {
     "name": "stdout",
     "output_type": "stream",
     "text": [
      "<class 'bs4.element.ResultSet'>\n"
     ]
    }
   ],
   "source": [
    "print(type(all_divs))"
   ]
  },
  {
   "cell_type": "code",
   "execution_count": 9,
   "id": "e8833b86",
   "metadata": {},
   "outputs": [],
   "source": [
    "base_url='https://www.timesjobs.com/candidate/job-search.html?from=submit&searchType=Home_Search&luceneResultSize=25&postWeek=60&cboPresFuncArea=35&pDate=Y&sequence='"
   ]
  },
  {
   "cell_type": "code",
   "execution_count": 10,
   "id": "e2ae757d",
   "metadata": {},
   "outputs": [],
   "source": [
    "url_lst=[]\n",
    "for item in range(1,201):\n",
    "    url_lst.append(base_url+str(item))"
   ]
  },
  {
   "cell_type": "code",
   "execution_count": 11,
   "id": "8d1fb71c",
   "metadata": {},
   "outputs": [],
   "source": [
    "all_jobs = []\n",
    "web_url='https://www.timesjobs.com/'\n",
    "for url in url_lst:\n",
    "    html= requests.get(url).text\n",
    "    soup_html=BeautifulSoup(html,'lxml')\n",
    "    all_divs= soup_html.find_all('li',class_='clearfix job-bx wht-shd-bx')\n",
    "    for item in all_divs:\n",
    "        job_title= item.find('a',target='_blank').text\n",
    "        company_name= item.find('h3',class_='joblist-comp-name').text\n",
    "        exp_location=item.find('ul',class_='top-jd-dtl clearfix').text\n",
    "        jobdes_skill= item.find('ul',class_='list-job-dtl clearfix').text\n",
    "        skills=item.find('span',class_='srp-skills').text\n",
    "        job_des=jobdes_skill.split(skills)\n",
    "        job_link=item.find('a',target='_blank')['href']\n",
    "        all_job_lst= {\n",
    "            'job title': job_title,\n",
    "            'company name': company_name,\n",
    "            'exp and location:': exp_location,\n",
    "            'job description': job_des,\n",
    "            'skills': skills,\n",
    "            'job link': web_url+job_link\n",
    "        }\n",
    "        \n",
    "        all_jobs.append(all_job_lst)"
   ]
  },
  {
   "cell_type": "code",
   "execution_count": 12,
   "id": "53b2e284",
   "metadata": {},
   "outputs": [
    {
     "name": "stdout",
     "output_type": "stream",
     "text": [
      "<class 'list'>\n"
     ]
    }
   ],
   "source": [
    "print(type(all_jobs))"
   ]
  },
  {
   "cell_type": "code",
   "execution_count": 13,
   "id": "cba139d6",
   "metadata": {},
   "outputs": [],
   "source": [
    "import pandas as pd"
   ]
  },
  {
   "cell_type": "code",
   "execution_count": 14,
   "id": "18e9d10d",
   "metadata": {},
   "outputs": [],
   "source": [
    "all_job_data = pd.DataFrame(all_jobs)"
   ]
  },
  {
   "cell_type": "code",
   "execution_count": 17,
   "id": "f9fc75aa",
   "metadata": {},
   "outputs": [
    {
     "data": {
      "text/html": [
       "<div>\n",
       "<style scoped>\n",
       "    .dataframe tbody tr th:only-of-type {\n",
       "        vertical-align: middle;\n",
       "    }\n",
       "\n",
       "    .dataframe tbody tr th {\n",
       "        vertical-align: top;\n",
       "    }\n",
       "\n",
       "    .dataframe thead th {\n",
       "        text-align: right;\n",
       "    }\n",
       "</style>\n",
       "<table border=\"1\" class=\"dataframe\">\n",
       "  <thead>\n",
       "    <tr style=\"text-align: right;\">\n",
       "      <th></th>\n",
       "      <th>job title</th>\n",
       "      <th>company name</th>\n",
       "      <th>exp and location:</th>\n",
       "      <th>job description</th>\n",
       "      <th>skills</th>\n",
       "      <th>job link</th>\n",
       "    </tr>\n",
       "  </thead>\n",
       "  <tbody>\n",
       "    <tr>\n",
       "      <th>0</th>\n",
       "      <td>\\r\\n      Project Coordinator</td>\n",
       "      <td>\\r\\n    v support solutions\\r\\n    \\r\\n</td>\n",
       "      <td>\\ncard_travel2 - 5 yrs\\n\\nlocation_on\\nCoimbat...</td>\n",
       "      <td>[\\n\\nJob Description:\\r\\nJob Title :Project Co...</td>\n",
       "      <td>\\r\\n      \\r\\n          project coordinator , ...</td>\n",
       "      <td>https://www.timesjobs.com/https://www.timesjob...</td>\n",
       "    </tr>\n",
       "    <tr>\n",
       "      <th>1</th>\n",
       "      <td>\\r\\n      JAVA DEVELOPER</td>\n",
       "      <td>\\r\\n    v support solutions\\r\\n    \\r\\n</td>\n",
       "      <td>\\ncard_travel3 - 6 yrs\\n\\nlocation_on\\nCoimbat...</td>\n",
       "      <td>[\\n\\nJob Description:\\r\\nJob Title :JAVA DEVEL...</td>\n",
       "      <td>\\r\\n      \\r\\n          css , jsp , jquery , s...</td>\n",
       "      <td>https://www.timesjobs.com/https://www.timesjob...</td>\n",
       "    </tr>\n",
       "    <tr>\n",
       "      <th>2</th>\n",
       "      <td>\\r\\n      Sr. System Engineer</td>\n",
       "      <td>\\r\\n    Orange Business Services\\r\\n    \\r\\n</td>\n",
       "      <td>\\ncard_travel5 - 8 yrs\\n\\nlocation_on\\nMumbai\\n\\n</td>\n",
       "      <td>[\\n\\nJob Description:\\r\\nabout the role1) Desi...</td>\n",
       "      <td>\\r\\n      \\r\\n          technical leader , bus...</td>\n",
       "      <td>https://www.timesjobs.com/https://www.timesjob...</td>\n",
       "    </tr>\n",
       "    <tr>\n",
       "      <th>3</th>\n",
       "      <td>\\r\\n      Incident Management Specialist &amp; shi...</td>\n",
       "      <td>\\r\\n    Orange Business Services\\r\\n    \\r\\n</td>\n",
       "      <td>\\ncard_travel0 - 3 yrs\\n\\nlocation_on\\nMumbai\\n\\n</td>\n",
       "      <td>[\\n\\nJob Description:\\r\\nabout the roleGather ...</td>\n",
       "      <td>\\r\\n      \\r\\n          service transition , i...</td>\n",
       "      <td>https://www.timesjobs.com/https://www.timesjob...</td>\n",
       "    </tr>\n",
       "    <tr>\n",
       "      <th>4</th>\n",
       "      <td>\\r\\n      Manager</td>\n",
       "      <td>\\r\\n    kpmg\\r\\n    \\r\\n</td>\n",
       "      <td>\\ncard_travel8 - 11 yrs\\n\\nlocation_on\\nGurgao...</td>\n",
       "      <td>[\\n\\nJob Description:\\r\\nAssess, capture, and ...</td>\n",
       "      <td>\\r\\n      \\r\\n          hive , c   , scala , s...</td>\n",
       "      <td>https://www.timesjobs.com/https://www.timesjob...</td>\n",
       "    </tr>\n",
       "    <tr>\n",
       "      <th>...</th>\n",
       "      <td>...</td>\n",
       "      <td>...</td>\n",
       "      <td>...</td>\n",
       "      <td>...</td>\n",
       "      <td>...</td>\n",
       "      <td>...</td>\n",
       "    </tr>\n",
       "    <tr>\n",
       "      <th>4995</th>\n",
       "      <td>\\r\\n      Lead Software Engineer, Backend</td>\n",
       "      <td>\\r\\n    CAPITAL ONE FINANCIAL SERVICES CLIENT\\...</td>\n",
       "      <td>\\ncard_travel7 - 10 yrs\\n\\nlocation_on\\n\\n\\n</td>\n",
       "      <td>[\\n\\nJob Description:\\r\\nWhat Youll Do:Lead a ...</td>\n",
       "      <td>\\r\\n      \\r\\n          orchestration , scala ...</td>\n",
       "      <td>https://www.timesjobs.com/https://www.timesjob...</td>\n",
       "    </tr>\n",
       "    <tr>\n",
       "      <th>4996</th>\n",
       "      <td>\\r\\n      Distinguished Machine Learning Engineer</td>\n",
       "      <td>\\r\\n    CAPITAL ONE FINANCIAL SERVICES CLIENT\\...</td>\n",
       "      <td>\\ncard_travel10 - 13 yrs\\n\\nlocation_on\\n\\n\\n</td>\n",
       "      <td>[\\n\\nJob Description:\\r\\nDistinguished Machine...</td>\n",
       "      <td>\\r\\n      \\r\\n          c   , conference , sca...</td>\n",
       "      <td>https://www.timesjobs.com/https://www.timesjob...</td>\n",
       "    </tr>\n",
       "    <tr>\n",
       "      <th>4997</th>\n",
       "      <td>\\r\\n      Manager, Project Management (Remote ...</td>\n",
       "      <td>\\r\\n    CAPITAL ONE FINANCIAL SERVICES CLIENT\\...</td>\n",
       "      <td>\\ncard_travel8 - 11 yrs\\n\\nlocation_on\\n\\n\\n</td>\n",
       "      <td>[\\n\\nJob Description:\\r\\nAs a Project Manager ...</td>\n",
       "      <td>\\r\\n      \\r\\n          people management , ch...</td>\n",
       "      <td>https://www.timesjobs.com/https://www.timesjob...</td>\n",
       "    </tr>\n",
       "    <tr>\n",
       "      <th>4998</th>\n",
       "      <td>\\r\\n      Sr. Manager, Process Management</td>\n",
       "      <td>\\r\\n    CAPITAL ONE FINANCIAL SERVICES CLIENT\\...</td>\n",
       "      <td>\\ncard_travel6 - 9 yrs\\n\\nlocation_on\\n\\n\\n</td>\n",
       "      <td>[\\n\\nJob Description:\\r\\nAs a Senior Manager o...</td>\n",
       "      <td>\\r\\n      \\r\\n          people management , se...</td>\n",
       "      <td>https://www.timesjobs.com/https://www.timesjob...</td>\n",
       "    </tr>\n",
       "    <tr>\n",
       "      <th>4999</th>\n",
       "      <td>\\r\\n      Senior Associate, Business Analysis ...</td>\n",
       "      <td>\\r\\n    CAPITAL ONE FINANCIAL SERVICES CLIENT\\...</td>\n",
       "      <td>\\ncard_travel2 - 5 yrs\\n\\nlocation_on\\n\\n\\n</td>\n",
       "      <td>[\\n\\nJob Description:\\r\\nAs a Senior Business ...</td>\n",
       "      <td>\\r\\n      \\r\\n          senior business analys...</td>\n",
       "      <td>https://www.timesjobs.com/https://www.timesjob...</td>\n",
       "    </tr>\n",
       "  </tbody>\n",
       "</table>\n",
       "<p>5000 rows × 6 columns</p>\n",
       "</div>"
      ],
      "text/plain": [
       "                                              job title  \\\n",
       "0                         \\r\\n      Project Coordinator   \n",
       "1                              \\r\\n      JAVA DEVELOPER   \n",
       "2                         \\r\\n      Sr. System Engineer   \n",
       "3     \\r\\n      Incident Management Specialist & shi...   \n",
       "4                                     \\r\\n      Manager   \n",
       "...                                                 ...   \n",
       "4995          \\r\\n      Lead Software Engineer, Backend   \n",
       "4996  \\r\\n      Distinguished Machine Learning Engineer   \n",
       "4997  \\r\\n      Manager, Project Management (Remote ...   \n",
       "4998          \\r\\n      Sr. Manager, Process Management   \n",
       "4999  \\r\\n      Senior Associate, Business Analysis ...   \n",
       "\n",
       "                                           company name  \\\n",
       "0           \\r\\n    v support solutions\\r\\n    \\r\\n       \n",
       "1           \\r\\n    v support solutions\\r\\n    \\r\\n       \n",
       "2      \\r\\n    Orange Business Services\\r\\n    \\r\\n       \n",
       "3      \\r\\n    Orange Business Services\\r\\n    \\r\\n       \n",
       "4                          \\r\\n    kpmg\\r\\n    \\r\\n       \n",
       "...                                                 ...   \n",
       "4995  \\r\\n    CAPITAL ONE FINANCIAL SERVICES CLIENT\\...   \n",
       "4996  \\r\\n    CAPITAL ONE FINANCIAL SERVICES CLIENT\\...   \n",
       "4997  \\r\\n    CAPITAL ONE FINANCIAL SERVICES CLIENT\\...   \n",
       "4998  \\r\\n    CAPITAL ONE FINANCIAL SERVICES CLIENT\\...   \n",
       "4999  \\r\\n    CAPITAL ONE FINANCIAL SERVICES CLIENT\\...   \n",
       "\n",
       "                                      exp and location:  \\\n",
       "0     \\ncard_travel2 - 5 yrs\\n\\nlocation_on\\nCoimbat...   \n",
       "1     \\ncard_travel3 - 6 yrs\\n\\nlocation_on\\nCoimbat...   \n",
       "2     \\ncard_travel5 - 8 yrs\\n\\nlocation_on\\nMumbai\\n\\n   \n",
       "3     \\ncard_travel0 - 3 yrs\\n\\nlocation_on\\nMumbai\\n\\n   \n",
       "4     \\ncard_travel8 - 11 yrs\\n\\nlocation_on\\nGurgao...   \n",
       "...                                                 ...   \n",
       "4995       \\ncard_travel7 - 10 yrs\\n\\nlocation_on\\n\\n\\n   \n",
       "4996      \\ncard_travel10 - 13 yrs\\n\\nlocation_on\\n\\n\\n   \n",
       "4997       \\ncard_travel8 - 11 yrs\\n\\nlocation_on\\n\\n\\n   \n",
       "4998        \\ncard_travel6 - 9 yrs\\n\\nlocation_on\\n\\n\\n   \n",
       "4999        \\ncard_travel2 - 5 yrs\\n\\nlocation_on\\n\\n\\n   \n",
       "\n",
       "                                        job description  \\\n",
       "0     [\\n\\nJob Description:\\r\\nJob Title :Project Co...   \n",
       "1     [\\n\\nJob Description:\\r\\nJob Title :JAVA DEVEL...   \n",
       "2     [\\n\\nJob Description:\\r\\nabout the role1) Desi...   \n",
       "3     [\\n\\nJob Description:\\r\\nabout the roleGather ...   \n",
       "4     [\\n\\nJob Description:\\r\\nAssess, capture, and ...   \n",
       "...                                                 ...   \n",
       "4995  [\\n\\nJob Description:\\r\\nWhat Youll Do:Lead a ...   \n",
       "4996  [\\n\\nJob Description:\\r\\nDistinguished Machine...   \n",
       "4997  [\\n\\nJob Description:\\r\\nAs a Project Manager ...   \n",
       "4998  [\\n\\nJob Description:\\r\\nAs a Senior Manager o...   \n",
       "4999  [\\n\\nJob Description:\\r\\nAs a Senior Business ...   \n",
       "\n",
       "                                                 skills  \\\n",
       "0     \\r\\n      \\r\\n          project coordinator , ...   \n",
       "1     \\r\\n      \\r\\n          css , jsp , jquery , s...   \n",
       "2     \\r\\n      \\r\\n          technical leader , bus...   \n",
       "3     \\r\\n      \\r\\n          service transition , i...   \n",
       "4     \\r\\n      \\r\\n          hive , c   , scala , s...   \n",
       "...                                                 ...   \n",
       "4995  \\r\\n      \\r\\n          orchestration , scala ...   \n",
       "4996  \\r\\n      \\r\\n          c   , conference , sca...   \n",
       "4997  \\r\\n      \\r\\n          people management , ch...   \n",
       "4998  \\r\\n      \\r\\n          people management , se...   \n",
       "4999  \\r\\n      \\r\\n          senior business analys...   \n",
       "\n",
       "                                               job link  \n",
       "0     https://www.timesjobs.com/https://www.timesjob...  \n",
       "1     https://www.timesjobs.com/https://www.timesjob...  \n",
       "2     https://www.timesjobs.com/https://www.timesjob...  \n",
       "3     https://www.timesjobs.com/https://www.timesjob...  \n",
       "4     https://www.timesjobs.com/https://www.timesjob...  \n",
       "...                                                 ...  \n",
       "4995  https://www.timesjobs.com/https://www.timesjob...  \n",
       "4996  https://www.timesjobs.com/https://www.timesjob...  \n",
       "4997  https://www.timesjobs.com/https://www.timesjob...  \n",
       "4998  https://www.timesjobs.com/https://www.timesjob...  \n",
       "4999  https://www.timesjobs.com/https://www.timesjob...  \n",
       "\n",
       "[5000 rows x 6 columns]"
      ]
     },
     "execution_count": 17,
     "metadata": {},
     "output_type": "execute_result"
    }
   ],
   "source": [
    "all_job_data"
   ]
  },
  {
   "cell_type": "code",
   "execution_count": 18,
   "id": "a9a5db15",
   "metadata": {},
   "outputs": [],
   "source": [
    "all_job_data.to_excel('times_jobs_data.xlsx')"
   ]
  },
  {
   "cell_type": "code",
   "execution_count": null,
   "id": "5391444a",
   "metadata": {},
   "outputs": [],
   "source": [
    "## excel file created "
   ]
  }
 ],
 "metadata": {
  "kernelspec": {
   "display_name": "Python 3 (ipykernel)",
   "language": "python",
   "name": "python3"
  },
  "language_info": {
   "codemirror_mode": {
    "name": "ipython",
    "version": 3
   },
   "file_extension": ".py",
   "mimetype": "text/x-python",
   "name": "python",
   "nbconvert_exporter": "python",
   "pygments_lexer": "ipython3",
   "version": "3.9.12"
  }
 },
 "nbformat": 4,
 "nbformat_minor": 5
}
